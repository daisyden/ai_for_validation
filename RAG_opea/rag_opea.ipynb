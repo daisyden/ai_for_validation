{
 "cells": [
  {
   "cell_type": "code",
   "execution_count": 1,
   "id": "a3b00b0f",
   "metadata": {},
   "outputs": [],
   "source": [
    "import requests\n",
    "import os\n",
    "\n",
    "os.environ[\"http_proxy\"] = \"\"\n",
    "os.environ[\"https_proxy\"] = \"\"\n",
    "\n",
    "DEFAULT_HOST_IP = \"10.112.100.138\"\n",
    "\n",
    "\n",
    "def QnA(request, host_ip=DEFAULT_HOST_IP):\n",
    "    url = f\"http://{host_ip}:8888/v1/chatqna\"\n",
    "\n",
    "    headers = {\"Content-Type\": \"application/json\"}\n",
    "\n",
    "    response = requests.post(url, headers=headers, json=request)\n",
    "    return response\n",
    "\n",
    "\n",
    "def upload_rag_file(rag_file, host_ip=DEFAULT_HOST_IP):\n",
    "    url = f\"http://{host_ip}:6007/v1/dataprep/ingest\"\n",
    "\n",
    "    with open(rag_file, \"rb\") as f:\n",
    "        files = {\"files\": f}\n",
    "        response = requests.post(url, files=files)\n",
    "\n",
    "    return response"
   ]
  },
  {
   "cell_type": "code",
   "execution_count": 2,
   "id": "d966138d",
   "metadata": {},
   "outputs": [
    {
     "name": "stdout",
     "output_type": "stream",
     "text": [
      "Status Code: 200\n",
      "Response Body: {\"status\":200,\"message\":\"Data preparation succeeded\"}\n"
     ]
    }
   ],
   "source": [
    "# download pdf file\n",
    "# wget https://raw.githubusercontent.com/opea-project/GenAIComps/v1.1/comps/retrievers/redis/data/nke-10k-2023.pdf\n",
    "\n",
    "# upload pdf file with dataprep\n",
    "rag_file = \"./nke-10k-2023.pdf\"\n",
    "upload_rag_file_response = upload_rag_file(rag_file)\n",
    "\n",
    "print(\"Status Code:\", upload_rag_file_response.status_code)\n",
    "print(\"Response Body:\", upload_rag_file_response.text)"
   ]
  },
  {
   "cell_type": "code",
   "execution_count": 3,
   "id": "d7d98710",
   "metadata": {},
   "outputs": [
    {
     "name": "stdout",
     "output_type": "stream",
     "text": [
      "Status Code: 200\n",
      "Response Body: {\"id\":\"chatcmpl-8jfKUDBPRXgJv3LFkquZJV\",\"object\":\"chat.completion\",\"created\":1744857909,\"model\":\"chatqna\",\"choices\":[{\"index\":0,\"message\":{\"role\":\"assistant\",\"content\":\"Okay, so I need to figure out Nike's revenue for 2023. Let me look through the information provided. The search results mention NIKE, Inc. Revenues were $51.2 billion in fiscal 2023. That seems straightforward. I should make sure that's the correct figure and present it clearly.\\n</think>\\n\\nNike's revenue in fiscal 2023 was $51.2 billion.\",\"audio\":null},\"finish_reason\":\"stop\",\"metadata\":null}],\"usage\":{\"prompt_tokens\":0,\"total_tokens\":0,\"completion_tokens\":0}}\n",
      "Nike's revenue in fiscal 2023 was $51.2 billion.\n"
     ]
    }
   ],
   "source": [
    "request = {\n",
    "        \"messages\": \"What is the revenue of Nike in 2023?\",\n",
    "        \"stream\": False\n",
    "    }\n",
    "\n",
    "QnA_response=QnA(request)\n",
    "\n",
    "print(\"Status Code:\", QnA_response.status_code)\n",
    "print(\"Response Body:\", QnA_response.text)\n",
    "\n",
    "if QnA_response.status_code==200:\n",
    "    result=QnA_response.json()[\"choices\"][0][\"message\"][\"content\"]\n",
    "    answer = result.split(\"</think>\")[-1].strip()\n",
    "    print(answer)"
   ]
  }
 ],
 "metadata": {
  "kernelspec": {
   "display_name": "langchain",
   "language": "python",
   "name": "python3"
  },
  "language_info": {
   "codemirror_mode": {
    "name": "ipython",
    "version": 3
   },
   "file_extension": ".py",
   "mimetype": "text/x-python",
   "name": "python",
   "nbconvert_exporter": "python",
   "pygments_lexer": "ipython3",
   "version": "3.10.16"
  }
 },
 "nbformat": 4,
 "nbformat_minor": 5
}
